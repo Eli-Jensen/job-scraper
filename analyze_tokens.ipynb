{
 "cells": [
  {
   "cell_type": "code",
   "execution_count": null,
   "metadata": {},
   "outputs": [],
   "source": [
    "import sqlite3\n",
    "import nltk\n",
    "from nltk import word_tokenize\n",
    "from fuzzywuzzy import process\n",
    "from collections import Counter\n",
    "import pandas as pd"
   ]
  },
  {
   "cell_type": "code",
   "execution_count": null,
   "metadata": {},
   "outputs": [],
   "source": [
    "tags_df = pd.read_csv('./tag_names_stack_overflow.csv') \n",
    "allowable_tokens = tags_df['tagName'].str.lower().tolist()\n",
    "\n",
    "# Connect to the SQLite database and load job descriptions\n",
    "conn = sqlite3.connect('your_database.db')\n",
    "cursor = conn.cursor()\n",
    "\n",
    "# Fetch all job descriptions\n",
    "cursor.execute(\"SELECT job_description FROM job_descriptions\")\n",
    "job_descriptions = cursor.fetchall()\n",
    "\n",
    "# Combine all job descriptions into a single string for processing\n",
    "text = \" \".join([desc[0] for desc in job_descriptions])\n",
    "\n",
    "tokens = word_tokenize(text)\n",
    "tokens = [word.lower() for word in tokens if word.isalpha()]\n",
    "\n",
    "# Define a function to filter tokens based on allowable tokens using fuzzy matching\n",
    "def filter_tokens(tokens, allowable_tokens, threshold=80):\n",
    "    filtered_tokens = []\n",
    "    for token in tokens:\n",
    "        match, score = process.extractOne(token, allowable_tokens)\n",
    "        if score >= threshold:\n",
    "            filtered_tokens.append(match)\n",
    "    return filtered_tokens\n",
    "\n",
    "filtered_tokens = filter_tokens(tokens, allowable_tokens)\n",
    "\n",
    "token_freq = Counter(filtered_tokens)\n",
    "\n",
    "# Output the top 10 most common allowable tokens\n",
    "print(\"Top 10 Allowable Tokens:\", token_freq.most_common(10))\n",
    "\n",
    "# Close the connection\n",
    "conn.close()"
   ]
  }
 ],
 "metadata": {
  "language_info": {
   "name": "python"
  }
 },
 "nbformat": 4,
 "nbformat_minor": 2
}
